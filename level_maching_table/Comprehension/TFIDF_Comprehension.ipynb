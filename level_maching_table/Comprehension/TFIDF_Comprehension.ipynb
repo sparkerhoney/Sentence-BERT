{
 "cells": [
  {
   "cell_type": "code",
   "execution_count": 1,
   "metadata": {},
   "outputs": [],
   "source": [
    "import pandas as pd\n",
    "\n",
    "compositional_preset = pd.read_csv('../data/Compositional Preset.csv')\n",
    "answer = pd.read_csv('../data/english_learning_proud_moments.csv')"
   ]
  },
  {
   "cell_type": "markdown",
   "metadata": {},
   "source": [
    "# Comprehension"
   ]
  },
  {
   "cell_type": "markdown",
   "metadata": {},
   "source": [
    "## cosine_similarity"
   ]
  },
  {
   "cell_type": "code",
   "execution_count": 4,
   "metadata": {},
   "outputs": [],
   "source": [
    "from sklearn.feature_extraction.text import TfidfVectorizer\n",
    "from sklearn.metrics.pairwise import cosine_similarity\n",
    "import pandas as pd"
   ]
  },
  {
   "cell_type": "code",
   "execution_count": 7,
   "metadata": {},
   "outputs": [
    {
     "data": {
      "text/html": [
       "<div>\n",
       "<style scoped>\n",
       "    .dataframe tbody tr th:only-of-type {\n",
       "        vertical-align: middle;\n",
       "    }\n",
       "\n",
       "    .dataframe tbody tr th {\n",
       "        vertical-align: top;\n",
       "    }\n",
       "\n",
       "    .dataframe thead th {\n",
       "        text-align: right;\n",
       "    }\n",
       "</style>\n",
       "<table border=\"1\" class=\"dataframe\">\n",
       "  <thead>\n",
       "    <tr style=\"text-align: right;\">\n",
       "      <th></th>\n",
       "      <th>Proud Moment</th>\n",
       "      <th>Personal Achievement</th>\n",
       "      <th>Others' Impact</th>\n",
       "    </tr>\n",
       "    <tr>\n",
       "      <th>Level</th>\n",
       "      <th></th>\n",
       "      <th></th>\n",
       "      <th></th>\n",
       "    </tr>\n",
       "  </thead>\n",
       "  <tbody>\n",
       "    <tr>\n",
       "      <th>A1 (Beginner)</th>\n",
       "      <td>0.234307</td>\n",
       "      <td>0.087214</td>\n",
       "      <td>0.205707</td>\n",
       "    </tr>\n",
       "    <tr>\n",
       "      <th>A2 (Elementary)</th>\n",
       "      <td>0.101725</td>\n",
       "      <td>0.064683</td>\n",
       "      <td>0.020885</td>\n",
       "    </tr>\n",
       "    <tr>\n",
       "      <th>B1 (Intermediate)</th>\n",
       "      <td>0.083160</td>\n",
       "      <td>0.157087</td>\n",
       "      <td>0.050160</td>\n",
       "    </tr>\n",
       "    <tr>\n",
       "      <th>B2 (Upper Intermediate)</th>\n",
       "      <td>0.102304</td>\n",
       "      <td>0.154683</td>\n",
       "      <td>0.113646</td>\n",
       "    </tr>\n",
       "    <tr>\n",
       "      <th>C1 (Advanced)</th>\n",
       "      <td>0.154355</td>\n",
       "      <td>0.093320</td>\n",
       "      <td>0.000000</td>\n",
       "    </tr>\n",
       "  </tbody>\n",
       "</table>\n",
       "</div>"
      ],
      "text/plain": [
       "                         Proud Moment  Personal Achievement  Others' Impact\n",
       "Level                                                                      \n",
       "A1 (Beginner)                0.234307              0.087214        0.205707\n",
       "A2 (Elementary)              0.101725              0.064683        0.020885\n",
       "B1 (Intermediate)            0.083160              0.157087        0.050160\n",
       "B2 (Upper Intermediate)      0.102304              0.154683        0.113646\n",
       "C1 (Advanced)                0.154355              0.093320        0.000000"
      ]
     },
     "execution_count": 7,
     "metadata": {},
     "output_type": "execute_result"
    }
   ],
   "source": [
    "import pandas as pd\n",
    "from sklearn.feature_extraction.text import TfidfVectorizer\n",
    "from sklearn.metrics.pairwise import cosine_similarity\n",
    "\n",
    "# Load the provided CSV file into a DataFrame\n",
    "answers_csv_path = 'data/english_learning_proud_moments.csv'\n",
    "answers_df = pd.read_csv(answers_csv_path)\n",
    "\n",
    "# Split the given question string into individual questions\n",
    "questions = [\n",
    "    \"Describe a time when you felt proud of yourself and explain why.\",\n",
    "    \"Share a personal achievement that made you feel proud and describe the steps you took to accomplish it.\",\n",
    "    \"Discuss a time when someone else made you feel proud and explain how their actions or accomplishments impacted you.\"\n",
    "]\n",
    "\n",
    "# Initialize TfidfVectorizer\n",
    "vectorizer = TfidfVectorizer()\n",
    "\n",
    "# Function to calculate cosine similarity for each question with the corresponding column in the DataFrame\n",
    "def calculate_similarity(question, answers):\n",
    "    # Vectorize the question and answers\n",
    "    tfidf_matrix = vectorizer.fit_transform([question] + answers)\n",
    "    \n",
    "    # Calculate cosine similarity between the question and each answer\n",
    "    # The question is the first document, so compare it with the answers\n",
    "    cosine_similarities = cosine_similarity(tfidf_matrix[0:1], tfidf_matrix[1:])\n",
    "    \n",
    "    # Flatten to get a list of similarities\n",
    "    return cosine_similarities.flatten()\n",
    "\n",
    "# Calculate cosine similarity for each question\n",
    "similarity_scores = {\n",
    "    'Proud Moment': calculate_similarity(questions[0], answers_df['Proud Moment'].tolist()),\n",
    "    'Personal Achievement': calculate_similarity(questions[1], answers_df['Personal Achievement'].tolist()),\n",
    "    \"Others' Impact\": calculate_similarity(questions[2], answers_df[\"Others' Impact\"].tolist())\n",
    "}\n",
    "\n",
    "# Create a DataFrame to display the similarity scores\n",
    "similarity_scores_df = pd.DataFrame(similarity_scores, index=answers_df['Level'])\n",
    "similarity_scores_df"
   ]
  }
 ],
 "metadata": {
  "kernelspec": {
   "display_name": "base",
   "language": "python",
   "name": "python3"
  },
  "language_info": {
   "codemirror_mode": {
    "name": "ipython",
    "version": 3
   },
   "file_extension": ".py",
   "mimetype": "text/x-python",
   "name": "python",
   "nbconvert_exporter": "python",
   "pygments_lexer": "ipython3",
   "version": "3.11.4"
  },
  "orig_nbformat": 4
 },
 "nbformat": 4,
 "nbformat_minor": 2
}
