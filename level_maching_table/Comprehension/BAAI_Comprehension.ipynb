{
 "cells": [
  {
   "cell_type": "markdown",
   "metadata": {},
   "source": [
    "# Comprehension"
   ]
  },
  {
   "cell_type": "markdown",
   "metadata": {},
   "source": [
    "## cosine_similarity"
   ]
  },
  {
   "cell_type": "code",
   "execution_count": 2,
   "metadata": {},
   "outputs": [],
   "source": [
    "from transformers import AutoTokenizer, AutoModel\n",
    "import torch\n",
    "import torch.nn.functional as F\n",
    "import pandas as pd\n",
    "\n",
    "compositional_preset = pd.read_csv('../data/Compositional Preset.csv')\n",
    "answers_df = pd.read_csv('../data/english_learning_proud_moments.csv')"
   ]
  },
  {
   "cell_type": "code",
   "execution_count": 10,
   "metadata": {},
   "outputs": [],
   "source": [
    "tokenizer = AutoTokenizer.from_pretrained('BAAI/bge-large-en-v1.5')\n",
    "model = AutoModel.from_pretrained('BAAI/bge-large-en-v1.5')"
   ]
  },
  {
   "cell_type": "code",
   "execution_count": 11,
   "metadata": {},
   "outputs": [],
   "source": [
    "def mean_pooling(model_output, attention_mask):\n",
    "    token_embeddings = model_output[0] \n",
    "    input_mask_expanded = attention_mask.unsqueeze(-1).expand(token_embeddings.size()).float()\n",
    "    return torch.sum(token_embeddings * input_mask_expanded, 1) / torch.clamp(input_mask_expanded.sum(1), min=1e-9)\n",
    "\n",
    "\n",
    "def calculate_cosine_similarity_baai(question, answers):\n",
    "    encoded_input_question = tokenizer(question, padding=True, truncation=True, return_tensors='pt')\n",
    "    encoded_inputs_answers = tokenizer(answers, padding=True, truncation=True, return_tensors='pt', max_length=tokenizer.model_max_length)\n",
    "\n",
    "    with torch.no_grad():\n",
    "        model_output_question = model(**encoded_input_question)\n",
    "        model_outputs_answers = model(**encoded_inputs_answers)\n",
    "\n",
    "    sentence_embedding_question = mean_pooling(model_output_question, encoded_input_question['attention_mask'])\n",
    "    sentence_embeddings_answers = mean_pooling(model_outputs_answers, encoded_inputs_answers['attention_mask'])\n",
    "\n",
    "    sentence_embedding_question = F.normalize(sentence_embedding_question, p=2, dim=1)\n",
    "    sentence_embeddings_answers = F.normalize(sentence_embeddings_answers, p=2, dim=1)\n",
    "\n",
    "    cosine_similarities = F.cosine_similarity(sentence_embedding_question, sentence_embeddings_answers).tolist()\n",
    "\n",
    "    return cosine_similarities"
   ]
  },
  {
   "cell_type": "markdown",
   "metadata": {},
   "source": [
    "### 동일한 Question & Answer\n",
    "- 15번 idx"
   ]
  },
  {
   "cell_type": "code",
   "execution_count": 13,
   "metadata": {},
   "outputs": [
    {
     "data": {
      "text/html": [
       "<div>\n",
       "<style scoped>\n",
       "    .dataframe tbody tr th:only-of-type {\n",
       "        vertical-align: middle;\n",
       "    }\n",
       "\n",
       "    .dataframe tbody tr th {\n",
       "        vertical-align: top;\n",
       "    }\n",
       "\n",
       "    .dataframe thead th {\n",
       "        text-align: right;\n",
       "    }\n",
       "</style>\n",
       "<table border=\"1\" class=\"dataframe\">\n",
       "  <thead>\n",
       "    <tr style=\"text-align: right;\">\n",
       "      <th></th>\n",
       "      <th>Proud Moment</th>\n",
       "      <th>Personal Achievement</th>\n",
       "      <th>Others' Impact</th>\n",
       "    </tr>\n",
       "    <tr>\n",
       "      <th>Level</th>\n",
       "      <th></th>\n",
       "      <th></th>\n",
       "      <th></th>\n",
       "    </tr>\n",
       "  </thead>\n",
       "  <tbody>\n",
       "    <tr>\n",
       "      <th>A1 (Beginner)</th>\n",
       "      <td>0.697732</td>\n",
       "      <td>0.647941</td>\n",
       "      <td>0.725628</td>\n",
       "    </tr>\n",
       "    <tr>\n",
       "      <th>A2 (Elementary)</th>\n",
       "      <td>0.689123</td>\n",
       "      <td>0.640891</td>\n",
       "      <td>0.605181</td>\n",
       "    </tr>\n",
       "    <tr>\n",
       "      <th>B1 (Intermediate)</th>\n",
       "      <td>0.704619</td>\n",
       "      <td>0.720814</td>\n",
       "      <td>0.654133</td>\n",
       "    </tr>\n",
       "    <tr>\n",
       "      <th>B2 (Upper Intermediate)</th>\n",
       "      <td>0.735158</td>\n",
       "      <td>0.658333</td>\n",
       "      <td>0.725895</td>\n",
       "    </tr>\n",
       "    <tr>\n",
       "      <th>C1 (Advanced)</th>\n",
       "      <td>0.673334</td>\n",
       "      <td>0.673990</td>\n",
       "      <td>0.678240</td>\n",
       "    </tr>\n",
       "  </tbody>\n",
       "</table>\n",
       "</div>"
      ],
      "text/plain": [
       "                         Proud Moment  Personal Achievement  Others' Impact\n",
       "Level                                                                      \n",
       "A1 (Beginner)                0.697732              0.647941        0.725628\n",
       "A2 (Elementary)              0.689123              0.640891        0.605181\n",
       "B1 (Intermediate)            0.704619              0.720814        0.654133\n",
       "B2 (Upper Intermediate)      0.735158              0.658333        0.725895\n",
       "C1 (Advanced)                0.673334              0.673990        0.678240"
      ]
     },
     "execution_count": 13,
     "metadata": {},
     "output_type": "execute_result"
    }
   ],
   "source": [
    "question_text = compositional_preset['TOPICS'][15]\n",
    "\n",
    "# Split the string on newline character to convert it into a list\n",
    "questions = question_text.split('\\n')\n",
    "\n",
    "# Remove the numbering from each question\n",
    "questions = [q[q.find(' ')+1:] for q in questions]\n",
    "\n",
    "similarity_scores_sbert = {\n",
    "    'Proud Moment': calculate_cosine_similarity_baai(questions[0], answers_df['Proud Moment'].tolist()),\n",
    "    'Personal Achievement': calculate_cosine_similarity_baai(questions[1], answers_df['Personal Achievement'].tolist()),\n",
    "    \"Others' Impact\": calculate_cosine_similarity_baai(questions[2], answers_df[\"Others' Impact\"].tolist())\n",
    "}\n",
    "\n",
    "# Create a DataFrame to display the similarity scores\n",
    "similarity_scores_df_sbert = pd.DataFrame(similarity_scores_sbert, index=answers_df['Level'])\n",
    "similarity_scores_df_sbert"
   ]
  },
  {
   "cell_type": "markdown",
   "metadata": {},
   "source": [
    "### 다른 Question & Answer\n",
    "- 16번 idx"
   ]
  },
  {
   "cell_type": "code",
   "execution_count": 14,
   "metadata": {},
   "outputs": [
    {
     "data": {
      "text/html": [
       "<div>\n",
       "<style scoped>\n",
       "    .dataframe tbody tr th:only-of-type {\n",
       "        vertical-align: middle;\n",
       "    }\n",
       "\n",
       "    .dataframe tbody tr th {\n",
       "        vertical-align: top;\n",
       "    }\n",
       "\n",
       "    .dataframe thead th {\n",
       "        text-align: right;\n",
       "    }\n",
       "</style>\n",
       "<table border=\"1\" class=\"dataframe\">\n",
       "  <thead>\n",
       "    <tr style=\"text-align: right;\">\n",
       "      <th></th>\n",
       "      <th>Proud Moment</th>\n",
       "      <th>Personal Achievement</th>\n",
       "      <th>Others' Impact</th>\n",
       "    </tr>\n",
       "    <tr>\n",
       "      <th>Level</th>\n",
       "      <th></th>\n",
       "      <th></th>\n",
       "      <th></th>\n",
       "    </tr>\n",
       "  </thead>\n",
       "  <tbody>\n",
       "    <tr>\n",
       "      <th>A1 (Beginner)</th>\n",
       "      <td>0.586034</td>\n",
       "      <td>0.521978</td>\n",
       "      <td>0.604810</td>\n",
       "    </tr>\n",
       "    <tr>\n",
       "      <th>A2 (Elementary)</th>\n",
       "      <td>0.564449</td>\n",
       "      <td>0.497697</td>\n",
       "      <td>0.532131</td>\n",
       "    </tr>\n",
       "    <tr>\n",
       "      <th>B1 (Intermediate)</th>\n",
       "      <td>0.558492</td>\n",
       "      <td>0.560129</td>\n",
       "      <td>0.572006</td>\n",
       "    </tr>\n",
       "    <tr>\n",
       "      <th>B2 (Upper Intermediate)</th>\n",
       "      <td>0.559892</td>\n",
       "      <td>0.507335</td>\n",
       "      <td>0.588718</td>\n",
       "    </tr>\n",
       "    <tr>\n",
       "      <th>C1 (Advanced)</th>\n",
       "      <td>0.607687</td>\n",
       "      <td>0.522802</td>\n",
       "      <td>0.561366</td>\n",
       "    </tr>\n",
       "  </tbody>\n",
       "</table>\n",
       "</div>"
      ],
      "text/plain": [
       "                         Proud Moment  Personal Achievement  Others' Impact\n",
       "Level                                                                      \n",
       "A1 (Beginner)                0.586034              0.521978        0.604810\n",
       "A2 (Elementary)              0.564449              0.497697        0.532131\n",
       "B1 (Intermediate)            0.558492              0.560129        0.572006\n",
       "B2 (Upper Intermediate)      0.559892              0.507335        0.588718\n",
       "C1 (Advanced)                0.607687              0.522802        0.561366"
      ]
     },
     "execution_count": 14,
     "metadata": {},
     "output_type": "execute_result"
    }
   ],
   "source": [
    "question_text = compositional_preset['TOPICS'][16]\n",
    "\n",
    "# Split the string on newline character to convert it into a list\n",
    "questions = question_text.split('\\n')\n",
    "\n",
    "# Remove the numbering from each question\n",
    "questions = [q[q.find(' ')+1:] for q in questions]\n",
    "\n",
    "similarity_scores_sbert = {\n",
    "    'Proud Moment': calculate_cosine_similarity_baai(questions[0], answers_df['Proud Moment'].tolist()),\n",
    "    'Personal Achievement': calculate_cosine_similarity_baai(questions[1], answers_df['Personal Achievement'].tolist()),\n",
    "    \"Others' Impact\": calculate_cosine_similarity_baai(questions[2], answers_df[\"Others' Impact\"].tolist())\n",
    "}\n",
    "\n",
    "# Create a DataFrame to display the similarity scores\n",
    "similarity_scores_df_sbert = pd.DataFrame(similarity_scores_sbert, index=answers_df['Level'])\n",
    "similarity_scores_df_sbert"
   ]
  },
  {
   "cell_type": "markdown",
   "metadata": {},
   "source": []
  }
 ],
 "metadata": {
  "kernelspec": {
   "display_name": "base",
   "language": "python",
   "name": "python3"
  },
  "language_info": {
   "codemirror_mode": {
    "name": "ipython",
    "version": 3
   },
   "file_extension": ".py",
   "mimetype": "text/x-python",
   "name": "python",
   "nbconvert_exporter": "python",
   "pygments_lexer": "ipython3",
   "version": "3.8.18"
  },
  "orig_nbformat": 4
 },
 "nbformat": 4,
 "nbformat_minor": 2
}
