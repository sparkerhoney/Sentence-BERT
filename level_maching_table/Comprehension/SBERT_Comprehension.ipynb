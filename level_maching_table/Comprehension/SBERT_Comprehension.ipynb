{
 "cells": [
  {
   "cell_type": "markdown",
   "metadata": {},
   "source": [
    "# Comprehension"
   ]
  },
  {
   "cell_type": "markdown",
   "metadata": {},
   "source": [
    "## cosine_similarity"
   ]
  },
  {
   "cell_type": "code",
   "execution_count": 1,
   "metadata": {},
   "outputs": [],
   "source": [
    "from transformers import AutoTokenizer, AutoModel\n",
    "import torch\n",
    "import torch.nn.functional as F\n",
    "import pandas as pd\n",
    "\n",
    "compositional_preset = pd.read_csv('../data/Compositional Preset.csv')\n",
    "answers_df = pd.read_csv('../data/english_learning_proud_moments.csv')"
   ]
  },
  {
   "cell_type": "code",
   "execution_count": 2,
   "metadata": {},
   "outputs": [],
   "source": [
    "tokenizer = AutoTokenizer.from_pretrained('sentence-transformers/all-MiniLM-L6-v2')\n",
    "model = AutoModel.from_pretrained('sentence-transformers/all-MiniLM-L6-v2')"
   ]
  },
  {
   "cell_type": "code",
   "execution_count": 3,
   "metadata": {},
   "outputs": [],
   "source": [
    "def mean_pooling(model_output, attention_mask):\n",
    "    token_embeddings = model_output[0] \n",
    "    input_mask_expanded = attention_mask.unsqueeze(-1).expand(token_embeddings.size()).float()\n",
    "    return torch.sum(token_embeddings * input_mask_expanded, 1) / torch.clamp(input_mask_expanded.sum(1), min=1e-9)\n",
    "\n",
    "def calculate_cosine_similarity_sbert(question, answers):\n",
    "    encoded_input_question = tokenizer(question, padding=True, truncation=True, return_tensors='pt')\n",
    "    encoded_inputs_answers = tokenizer(answers, padding=True, truncation=True, return_tensors='pt', max_length=tokenizer.model_max_length)\n",
    "\n",
    "    with torch.no_grad():\n",
    "        model_output_question = model(**encoded_input_question)\n",
    "        model_outputs_answers = model(**encoded_inputs_answers)\n",
    "\n",
    "    sentence_embedding_question = mean_pooling(model_output_question, encoded_input_question['attention_mask'])\n",
    "    sentence_embeddings_answers = mean_pooling(model_outputs_answers, encoded_inputs_answers['attention_mask'])\n",
    "\n",
    "    sentence_embedding_question = F.normalize(sentence_embedding_question, p=2, dim=1)\n",
    "    sentence_embeddings_answers = F.normalize(sentence_embeddings_answers, p=2, dim=1)\n",
    "\n",
    "    cosine_similarities = F.cosine_similarity(sentence_embedding_question, sentence_embeddings_answers).tolist()\n",
    "\n",
    "    return cosine_similarities"
   ]
  },
  {
   "cell_type": "markdown",
   "metadata": {},
   "source": [
    "### 동일한 Question & Answer\n",
    "- 15번 idx"
   ]
  },
  {
   "cell_type": "code",
   "execution_count": 4,
   "metadata": {},
   "outputs": [
    {
     "data": {
      "text/html": [
       "<div>\n",
       "<style scoped>\n",
       "    .dataframe tbody tr th:only-of-type {\n",
       "        vertical-align: middle;\n",
       "    }\n",
       "\n",
       "    .dataframe tbody tr th {\n",
       "        vertical-align: top;\n",
       "    }\n",
       "\n",
       "    .dataframe thead th {\n",
       "        text-align: right;\n",
       "    }\n",
       "</style>\n",
       "<table border=\"1\" class=\"dataframe\">\n",
       "  <thead>\n",
       "    <tr style=\"text-align: right;\">\n",
       "      <th></th>\n",
       "      <th>Proud Moment</th>\n",
       "      <th>Personal Achievement</th>\n",
       "      <th>Others' Impact</th>\n",
       "    </tr>\n",
       "    <tr>\n",
       "      <th>Level</th>\n",
       "      <th></th>\n",
       "      <th></th>\n",
       "      <th></th>\n",
       "    </tr>\n",
       "  </thead>\n",
       "  <tbody>\n",
       "    <tr>\n",
       "      <th>A1 (Beginner)</th>\n",
       "      <td>0.520288</td>\n",
       "      <td>0.412033</td>\n",
       "      <td>0.487585</td>\n",
       "    </tr>\n",
       "    <tr>\n",
       "      <th>A2 (Elementary)</th>\n",
       "      <td>0.432508</td>\n",
       "      <td>0.367420</td>\n",
       "      <td>0.378452</td>\n",
       "    </tr>\n",
       "    <tr>\n",
       "      <th>B1 (Intermediate)</th>\n",
       "      <td>0.466504</td>\n",
       "      <td>0.498527</td>\n",
       "      <td>0.420501</td>\n",
       "    </tr>\n",
       "    <tr>\n",
       "      <th>B2 (Upper Intermediate)</th>\n",
       "      <td>0.433641</td>\n",
       "      <td>0.524253</td>\n",
       "      <td>0.563703</td>\n",
       "    </tr>\n",
       "    <tr>\n",
       "      <th>C1 (Advanced)</th>\n",
       "      <td>0.325905</td>\n",
       "      <td>0.523665</td>\n",
       "      <td>0.570039</td>\n",
       "    </tr>\n",
       "  </tbody>\n",
       "</table>\n",
       "</div>"
      ],
      "text/plain": [
       "                         Proud Moment  Personal Achievement  Others' Impact\n",
       "Level                                                                      \n",
       "A1 (Beginner)                0.520288              0.412033        0.487585\n",
       "A2 (Elementary)              0.432508              0.367420        0.378452\n",
       "B1 (Intermediate)            0.466504              0.498527        0.420501\n",
       "B2 (Upper Intermediate)      0.433641              0.524253        0.563703\n",
       "C1 (Advanced)                0.325905              0.523665        0.570039"
      ]
     },
     "execution_count": 4,
     "metadata": {},
     "output_type": "execute_result"
    }
   ],
   "source": [
    "question_text = compositional_preset['TOPICS'][15]\n",
    "\n",
    "# Split the string on newline character to convert it into a list\n",
    "questions = question_text.split('\\n')\n",
    "\n",
    "# Remove the numbering from each question\n",
    "questions = [q[q.find(' ')+1:] for q in questions]\n",
    "\n",
    "similarity_scores_sbert = {\n",
    "    'Proud Moment': calculate_cosine_similarity_sbert(questions[0], answers_df['Proud Moment'].tolist()),\n",
    "    'Personal Achievement': calculate_cosine_similarity_sbert(questions[1], answers_df['Personal Achievement'].tolist()),\n",
    "    \"Others' Impact\": calculate_cosine_similarity_sbert(questions[2], answers_df[\"Others' Impact\"].tolist())\n",
    "}\n",
    "\n",
    "# Create a DataFrame to display the similarity scores\n",
    "similarity_scores_df_sbert = pd.DataFrame(similarity_scores_sbert, index=answers_df['Level'])\n",
    "similarity_scores_df_sbert"
   ]
  },
  {
   "cell_type": "markdown",
   "metadata": {},
   "source": [
    "### 다른 Question & Answer\n",
    "- 16번 idx"
   ]
  },
  {
   "cell_type": "code",
   "execution_count": 5,
   "metadata": {},
   "outputs": [
    {
     "data": {
      "text/html": [
       "<div>\n",
       "<style scoped>\n",
       "    .dataframe tbody tr th:only-of-type {\n",
       "        vertical-align: middle;\n",
       "    }\n",
       "\n",
       "    .dataframe tbody tr th {\n",
       "        vertical-align: top;\n",
       "    }\n",
       "\n",
       "    .dataframe thead th {\n",
       "        text-align: right;\n",
       "    }\n",
       "</style>\n",
       "<table border=\"1\" class=\"dataframe\">\n",
       "  <thead>\n",
       "    <tr style=\"text-align: right;\">\n",
       "      <th></th>\n",
       "      <th>Proud Moment</th>\n",
       "      <th>Personal Achievement</th>\n",
       "      <th>Others' Impact</th>\n",
       "    </tr>\n",
       "    <tr>\n",
       "      <th>Level</th>\n",
       "      <th></th>\n",
       "      <th></th>\n",
       "      <th></th>\n",
       "    </tr>\n",
       "  </thead>\n",
       "  <tbody>\n",
       "    <tr>\n",
       "      <th>A1 (Beginner)</th>\n",
       "      <td>0.276337</td>\n",
       "      <td>0.175256</td>\n",
       "      <td>0.268428</td>\n",
       "    </tr>\n",
       "    <tr>\n",
       "      <th>A2 (Elementary)</th>\n",
       "      <td>0.229380</td>\n",
       "      <td>0.141988</td>\n",
       "      <td>0.134847</td>\n",
       "    </tr>\n",
       "    <tr>\n",
       "      <th>B1 (Intermediate)</th>\n",
       "      <td>0.262853</td>\n",
       "      <td>0.206176</td>\n",
       "      <td>0.186677</td>\n",
       "    </tr>\n",
       "    <tr>\n",
       "      <th>B2 (Upper Intermediate)</th>\n",
       "      <td>0.172176</td>\n",
       "      <td>0.180951</td>\n",
       "      <td>0.199350</td>\n",
       "    </tr>\n",
       "    <tr>\n",
       "      <th>C1 (Advanced)</th>\n",
       "      <td>0.259099</td>\n",
       "      <td>0.193786</td>\n",
       "      <td>0.234782</td>\n",
       "    </tr>\n",
       "  </tbody>\n",
       "</table>\n",
       "</div>"
      ],
      "text/plain": [
       "                         Proud Moment  Personal Achievement  Others' Impact\n",
       "Level                                                                      \n",
       "A1 (Beginner)                0.276337              0.175256        0.268428\n",
       "A2 (Elementary)              0.229380              0.141988        0.134847\n",
       "B1 (Intermediate)            0.262853              0.206176        0.186677\n",
       "B2 (Upper Intermediate)      0.172176              0.180951        0.199350\n",
       "C1 (Advanced)                0.259099              0.193786        0.234782"
      ]
     },
     "execution_count": 5,
     "metadata": {},
     "output_type": "execute_result"
    }
   ],
   "source": [
    "question_text = compositional_preset['TOPICS'][16]\n",
    "\n",
    "# Split the string on newline character to convert it into a list\n",
    "questions = question_text.split('\\n')\n",
    "\n",
    "# Remove the numbering from each question\n",
    "questions = [q[q.find(' ')+1:] for q in questions]\n",
    "\n",
    "similarity_scores_sbert = {\n",
    "    'Proud Moment': calculate_cosine_similarity_sbert(questions[0], answers_df['Proud Moment'].tolist()),\n",
    "    'Personal Achievement': calculate_cosine_similarity_sbert(questions[1], answers_df['Personal Achievement'].tolist()),\n",
    "    \"Others' Impact\": calculate_cosine_similarity_sbert(questions[2], answers_df[\"Others' Impact\"].tolist())\n",
    "}\n",
    "\n",
    "# Create a DataFrame to display the similarity scores\n",
    "similarity_scores_df_sbert = pd.DataFrame(similarity_scores_sbert, index=answers_df['Level'])\n",
    "similarity_scores_df_sbert"
   ]
  }
 ],
 "metadata": {
  "kernelspec": {
   "display_name": "base",
   "language": "python",
   "name": "python3"
  },
  "language_info": {
   "codemirror_mode": {
    "name": "ipython",
    "version": 3
   },
   "file_extension": ".py",
   "mimetype": "text/x-python",
   "name": "python",
   "nbconvert_exporter": "python",
   "pygments_lexer": "ipython3",
   "version": "3.8.18"
  },
  "orig_nbformat": 4
 },
 "nbformat": 4,
 "nbformat_minor": 2
}
