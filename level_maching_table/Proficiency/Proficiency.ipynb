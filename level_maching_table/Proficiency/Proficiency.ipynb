{
 "cells": [
  {
   "cell_type": "code",
   "execution_count": null,
   "metadata": {},
   "outputs": [],
   "source": [
    "# pip install textstat"
   ]
  },
  {
   "cell_type": "code",
   "execution_count": 4,
   "metadata": {},
   "outputs": [],
   "source": [
    "import pandas as pd\n",
    "import textstat\n",
    "\n",
    "compositional_preset = pd.read_csv('data/Compositional Preset.csv')\n",
    "answer = pd.read_csv('data/english_learning_proud_moments.csv')"
   ]
  },
  {
   "cell_type": "code",
   "execution_count": 10,
   "metadata": {},
   "outputs": [
    {
     "name": "stdout",
     "output_type": "stream",
     "text": [
      "Proud Moment A1:\n",
      "  Spache Score: 1.9\n",
      "  Flesch Reading Ease Score: 106.16\n",
      "\n",
      "Proud Moment A2:\n",
      "  Spache Score: 3.56\n",
      "  Flesch Reading Ease Score: 88.23\n",
      "\n",
      "Proud Moment B1:\n",
      "  Spache Score: 2.63\n",
      "  Flesch Reading Ease Score: 104.13\n",
      "\n",
      "Proud Moment B2:\n",
      "  Spache Score: 4.7\n",
      "  Flesch Reading Ease Score: 68.26\n",
      "\n",
      "Proud Moment C1:\n",
      "  Spache Score: 5.26\n",
      "  Flesch Reading Ease Score: 56.76\n",
      "\n"
     ]
    }
   ],
   "source": [
    "levels = ['A1', 'A2', 'B1', 'B2', 'C1']\n",
    "\n",
    "for i in range(5):\n",
    "    proud_moment_text = answer['Proud Moment'][i]\n",
    "    spache_score = textstat.spache_readability(proud_moment_text)\n",
    "    flesch_score = textstat.flesch_reading_ease(proud_moment_text)\n",
    "    print(f\"Proud Moment {levels[i]}:\")\n",
    "    print(f\"  Spache Score: {spache_score}\")\n",
    "    print(f\"  Flesch Reading Ease Score: {flesch_score}\\n\")\n"
   ]
  },
  {
   "cell_type": "markdown",
   "metadata": {},
   "source": [
    "이 제시된 점수들을 바탕으로 각 Proud Moment 텍스트의 가독성을 평가해보겠습니다:\n",
    "\n",
    "### Proud Moment A1:\n",
    "- **Spache Score: 1.9**: 이 점수는 매우 낮아, 텍스트가 매우 쉽다는 것을 의미합니다. 이러한 점수는 특히 어린 아이들이 이해하기 쉬운 텍스트에 해당됩니다.\n",
    "- **Flesch Reading Ease Score: 106.16**: Flesch 점수가 100을 초과하여 매우 높은 점수입니다. 이는 텍스트가 매우 쉽고, 아마도 매우 짧은 문장과 간단한 단어들로 구성되어 있음을 나타냅니다.\n",
    "\n",
    "### Proud Moment A2:\n",
    "- **Spache Score: 3.56**: 이 점수는 텍스트가 어린이들에게 적당히 이해하기 쉬운 수준임을 나타냅니다. 그러나 A1보다는 약간 더 복잡할 수 있습니다.\n",
    "- **Flesch Reading Ease Score: 88.23**: 여전히 매우 높은 점수로, 텍스트가 읽기 쉽다는 것을 보여줍니다. 일반적으로 성인 독자에게도 쉽게 접근할 수 있음을 의미합니다.\n",
    "\n",
    "### Proud Moment B1:\n",
    "- **Spache Score: 2.63**: 이 점수는 텍스트가 여전히 어린이들에게 적절한 수준이라는 것을 보여줍니다.\n",
    "- **Flesch Reading Ease Score: 104.13**: 이 점수는 매우 높아서 텍스트가 매우 쉽다는 것을 의미합니다. \n",
    "\n",
    "### Proud Moment B2:\n",
    "- **Spache Score: 4.7**: 이 점수는 텍스트가 다른 Proud Moment 텍스트보다 다소 복잡하다는 것을 나타내며, 어린 독자들에게는 약간 어려울 수 있습니다.\n",
    "- **Flesch Reading Ease Score: 68.26**: 이 점수는 여전히 '평균 이상'의 범주에 속하지만, 이전의 텍스트들에 비해 상대적으로 낮아서 성인 독자에게는 쉽지만, 어린이들에게는 적당한 수준일 것입니다.\n",
    "\n",
    "### Proud Moment C1:\n",
    "- **Spache Score: 5.26**: 이것은 가장 높은 Spache 점수로, 텍스트가 다른 Proud Moment 텍스트들보다 상당히 복잡함을 나타냅니다. 초등학교 고학년 이상의 어린이들을 대상으로 할 수 있습니다.\n",
    "- **Flesch Reading Ease Score: 56.76**: 이 점수는 '어렵다'는 범주에 속할 수 있는데, 이는 성인 독자들에게는 평균적인 난이도이지만 어린이 독자들에게는 상당히 어려울 수 있음을 의미합니다.\n",
    "\n",
    "종합적으로, 이 텍스트들은 A1에서 C1으로 갈수록 점점 난이도가 증가하는 경향을 보입니다. A1과 A2는 매우 쉬운 텍스트로, 어린 독자들과 영어를 처음 배우는 사람들에게 적합할 수 있습니다. B1과 B2는 조금 더 복잡한 구조와 어휘를 사용할 가능성이 있으며, C1은 성인 독자들을 대상으로 한 텍스트로, 보다 복잡한 어휘와 문장 구조를 포함할 가능성이 있습니다."
   ]
  },
  {
   "cell_type": "code",
   "execution_count": 11,
   "metadata": {},
   "outputs": [
    {
     "name": "stdout",
     "output_type": "stream",
     "text": [
      "Proud Moment A1:\n",
      "  Spache Score: 1.47\n",
      "  Flesch Reading Ease Score: 92.29\n",
      "\n",
      "Proud Moment A2:\n",
      "  Spache Score: 2.16\n",
      "  Flesch Reading Ease Score: 99.23\n",
      "\n",
      "Proud Moment B1:\n",
      "  Spache Score: 2.14\n",
      "  Flesch Reading Ease Score: 107.99\n",
      "\n",
      "Proud Moment B2:\n",
      "  Spache Score: 5.93\n",
      "  Flesch Reading Ease Score: 53.88\n",
      "\n",
      "Proud Moment C1:\n",
      "  Spache Score: 5.83\n",
      "  Flesch Reading Ease Score: 42.88\n",
      "\n"
     ]
    }
   ],
   "source": [
    "for i in range(5):\n",
    "    proud_moment_text = answer['Personal Achievement'][i]\n",
    "    spache_score = textstat.spache_readability(proud_moment_text)\n",
    "    flesch_score = textstat.flesch_reading_ease(proud_moment_text)\n",
    "    print(f\"Proud Moment {levels[i]}:\")\n",
    "    print(f\"  Spache Score: {spache_score}\")\n",
    "    print(f\"  Flesch Reading Ease Score: {flesch_score}\\n\")"
   ]
  },
  {
   "cell_type": "code",
   "execution_count": 13,
   "metadata": {},
   "outputs": [
    {
     "name": "stdout",
     "output_type": "stream",
     "text": [
      "Proud Moment A1:\n",
      "  Spache Score: 1.45\n",
      "  Flesch Reading Ease Score: 117.87\n",
      "\n",
      "Proud Moment A2:\n",
      "  Spache Score: 2.11\n",
      "  Flesch Reading Ease Score: 109.0\n",
      "\n",
      "Proud Moment B1:\n",
      "  Spache Score: 2.65\n",
      "  Flesch Reading Ease Score: 99.53\n",
      "\n",
      "Proud Moment B2:\n",
      "  Spache Score: 3.96\n",
      "  Flesch Reading Ease Score: 59.8\n",
      "\n",
      "Proud Moment C1:\n",
      "  Spache Score: 6.95\n",
      "  Flesch Reading Ease Score: 25.96\n",
      "\n"
     ]
    }
   ],
   "source": [
    "for i in range(5):\n",
    "    proud_moment_text = answer['Others\\' Impact'][i]\n",
    "    spache_score = textstat.spache_readability(proud_moment_text)\n",
    "    flesch_score = textstat.flesch_reading_ease(proud_moment_text)\n",
    "    print(f\"Proud Moment {levels[i]}:\")\n",
    "    print(f\"  Spache Score: {spache_score}\")\n",
    "    print(f\"  Flesch Reading Ease Score: {flesch_score}\\n\")"
   ]
  },
  {
   "cell_type": "code",
   "execution_count": null,
   "metadata": {},
   "outputs": [],
   "source": []
  }
 ],
 "metadata": {
  "kernelspec": {
   "display_name": "base",
   "language": "python",
   "name": "python3"
  },
  "language_info": {
   "codemirror_mode": {
    "name": "ipython",
    "version": 3
   },
   "file_extension": ".py",
   "mimetype": "text/x-python",
   "name": "python",
   "nbconvert_exporter": "python",
   "pygments_lexer": "ipython3",
   "version": "3.11.4"
  },
  "orig_nbformat": 4
 },
 "nbformat": 4,
 "nbformat_minor": 2
}
