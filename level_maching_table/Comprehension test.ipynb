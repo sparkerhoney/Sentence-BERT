{
 "cells": [
  {
   "cell_type": "code",
   "execution_count": 1,
   "metadata": {},
   "outputs": [],
   "source": [
    "import pandas as pd\n",
    "\n",
    "compositional_preset = pd.read_csv('data/Compositional Preset.csv')\n",
    "answer = pd.read_csv('data/english_learning_proud_moments.csv')"
   ]
  },
  {
   "cell_type": "markdown",
   "metadata": {},
   "source": [
    "# Comprehension"
   ]
  },
  {
   "cell_type": "markdown",
   "metadata": {},
   "source": [
    "## cosine_similarity"
   ]
  },
  {
   "cell_type": "code",
   "execution_count": 1,
   "metadata": {},
   "outputs": [],
   "source": [
    "from sklearn.feature_extraction.text import TfidfVectorizer\n",
    "from sklearn.metrics.pairwise import cosine_similarity\n",
    "import pandas as pd"
   ]
  },
  {
   "cell_type": "code",
   "execution_count": 6,
   "metadata": {},
   "outputs": [
    {
     "data": {
      "text/html": [
       "<div>\n",
       "<style scoped>\n",
       "    .dataframe tbody tr th:only-of-type {\n",
       "        vertical-align: middle;\n",
       "    }\n",
       "\n",
       "    .dataframe tbody tr th {\n",
       "        vertical-align: top;\n",
       "    }\n",
       "\n",
       "    .dataframe thead th {\n",
       "        text-align: right;\n",
       "    }\n",
       "</style>\n",
       "<table border=\"1\" class=\"dataframe\">\n",
       "  <thead>\n",
       "    <tr style=\"text-align: right;\">\n",
       "      <th></th>\n",
       "      <th>Proud Moment</th>\n",
       "      <th>Personal Achievement</th>\n",
       "      <th>Others' Impact</th>\n",
       "    </tr>\n",
       "  </thead>\n",
       "  <tbody>\n",
       "    <tr>\n",
       "      <th>A1 (Beginner)</th>\n",
       "      <td>0.160201</td>\n",
       "      <td>0.119145</td>\n",
       "      <td>0.267306</td>\n",
       "    </tr>\n",
       "    <tr>\n",
       "      <th>A2 (Elementary)</th>\n",
       "      <td>0.107328</td>\n",
       "      <td>0.029455</td>\n",
       "      <td>0.059247</td>\n",
       "    </tr>\n",
       "    <tr>\n",
       "      <th>B1 (Intermediate)</th>\n",
       "      <td>0.100734</td>\n",
       "      <td>0.194318</td>\n",
       "      <td>0.092337</td>\n",
       "    </tr>\n",
       "    <tr>\n",
       "      <th>B2 (Upper Intermediate)</th>\n",
       "      <td>0.083293</td>\n",
       "      <td>0.086658</td>\n",
       "      <td>0.194780</td>\n",
       "    </tr>\n",
       "    <tr>\n",
       "      <th>C1 (Advanced)</th>\n",
       "      <td>0.108909</td>\n",
       "      <td>0.086823</td>\n",
       "      <td>0.007107</td>\n",
       "    </tr>\n",
       "  </tbody>\n",
       "</table>\n",
       "</div>"
      ],
      "text/plain": [
       "                         Proud Moment  Personal Achievement  Others' Impact\n",
       "A1 (Beginner)                0.160201              0.119145        0.267306\n",
       "A2 (Elementary)              0.107328              0.029455        0.059247\n",
       "B1 (Intermediate)            0.100734              0.194318        0.092337\n",
       "B2 (Upper Intermediate)      0.083293              0.086658        0.194780\n",
       "C1 (Advanced)                0.108909              0.086823        0.007107"
      ]
     },
     "execution_count": 6,
     "metadata": {},
     "output_type": "execute_result"
    }
   ],
   "source": [
    "# Load the provided CSV file into a DataFrame\n",
    "answers_csv_path = 'data/english_learning_proud_moments.csv'\n",
    "answers_df = pd.read_csv(answers_csv_path)\n",
    "\n",
    "\n",
    "# Initialize TfidfVectorizer\n",
    "vectorizer = TfidfVectorizer()\n",
    "\n",
    "# Concatenate the question with each answer to form a corpus for each column\n",
    "corpora = {\n",
    "    column: [question] + answers_df[column].tolist() for column in answers_df.columns if column != 'Level'\n",
    "}\n",
    "\n",
    "# Calculate cosine similarity between the question and each answer in the DataFrame\n",
    "similarity_scores = {}\n",
    "\n",
    "for column, corpus in corpora.items():\n",
    "    # Vectorize the corpus\n",
    "    tfidf_matrix = vectorizer.fit_transform(corpus)\n",
    "    \n",
    "    # Calculate cosine similarity between the question and each answer\n",
    "    # The question is the first document in the corpus, so it's index 0\n",
    "    # We compare it with all subsequent documents (the answers)\n",
    "    cosine_similarities = cosine_similarity(tfidf_matrix[0], tfidf_matrix[1:])\n",
    "    \n",
    "    # Add the scores to the dictionary with the corresponding level labels\n",
    "    similarity_scores[column] = dict(zip(answers_df['Level'], cosine_similarities.flatten()))\n",
    "\n",
    "similarity_scores_df = pd.DataFrame(similarity_scores)\n",
    "similarity_scores_df\n"
   ]
  },
  {
   "cell_type": "code",
   "execution_count": null,
   "metadata": {},
   "outputs": [],
   "source": []
  }
 ],
 "metadata": {
  "kernelspec": {
   "display_name": "base",
   "language": "python",
   "name": "python3"
  },
  "language_info": {
   "codemirror_mode": {
    "name": "ipython",
    "version": 3
   },
   "file_extension": ".py",
   "mimetype": "text/x-python",
   "name": "python",
   "nbconvert_exporter": "python",
   "pygments_lexer": "ipython3",
   "version": "3.11.4"
  },
  "orig_nbformat": 4
 },
 "nbformat": 4,
 "nbformat_minor": 2
}
