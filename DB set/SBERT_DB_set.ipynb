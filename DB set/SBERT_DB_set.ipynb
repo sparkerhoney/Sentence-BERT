{
 "cells": [
  {
   "cell_type": "code",
   "execution_count": 2,
   "metadata": {},
   "outputs": [],
   "source": [
    "from transformers import AutoTokenizer, AutoModel\n",
    "import torch\n",
    "import torch.nn.functional as F\n",
    "import pandas as pd\n",
    "import json\n"
   ]
  },
  {
   "cell_type": "code",
   "execution_count": 3,
   "metadata": {},
   "outputs": [],
   "source": [
    "idiom_entity = pd.read_csv('/Users/marketdesigners/Documents/GitHub/sentencec-bert/data/lexical_entity(230808).xlsx - idiom_entity.csv')\n",
    "phrasalVerb_entity = pd.read_csv('/Users/marketdesigners/Documents/GitHub/sentencec-bert/data/lexical_entity(230808).xlsx - phrasalVerb_entity.csv')\n",
    "vocabulary_entity = pd.read_csv('/Users/marketdesigners/Documents/GitHub/sentencec-bert/data/lexical_entity(230808).xlsx - vocabulary_entity.csv')"
   ]
  },
  {
   "cell_type": "code",
   "execution_count": 10,
   "metadata": {},
   "outputs": [
    {
     "name": "stdout",
     "output_type": "stream",
     "text": [
      "Index(['ENTITY', 'SUB_TYPE', 'CEFR', 'CORE1', 'CORE2', 'CORE3',\n",
      "       'USAGE_EXAMPLE', 'EXPLANATION'],\n",
      "      dtype='object')\n",
      "Index(['ENTITY', 'SUB_TYPE', 'CEFR', 'USAGE_EXAMPLE', 'EXPLANATION'], dtype='object')\n",
      "Index(['ENTITY', 'SUB_TYPE', 'CEFR', 'CORE1', 'CORE2', 'CORE3', 'SOURCE',\n",
      "       'USAGE_EXAMPLE', 'EXPLANATION'],\n",
      "      dtype='object')\n"
     ]
    }
   ],
   "source": [
    "print(idiom_entity.columns)\n",
    "print(phrasalVerb_entity.columns)\n",
    "print(vocabulary_entity.columns)"
   ]
  },
  {
   "cell_type": "code",
   "execution_count": 17,
   "metadata": {},
   "outputs": [
    {
     "data": {
      "text/plain": [
       "('../data/lexical_entities_merged.csv',\n",
       "                                             ENTITY    SUB_TYPE CEFR  \\\n",
       " 0                          a bear with a sore head       idiom   B1   \n",
       " 1      a bird in the hand is worth two in the bush       idiom   A2   \n",
       " 2                            a bit of a dark horse       idiom   B2   \n",
       " 3                         a bitter pill to swallow       idiom   B1   \n",
       " 4                           a blessing in disguise       idiom   A2   \n",
       " ...                                            ...         ...  ...   \n",
       " 14835                                         zone  vocabulary   B2   \n",
       " 14836                                          zoo  vocabulary   A1   \n",
       " 14837                                    zoologist  vocabulary   C2   \n",
       " 14838                                      zoology  vocabulary   C2   \n",
       " 14839                                         zoom  vocabulary   B2   \n",
       " \n",
       "                          CORE1                         CORE2           CORE3  \\\n",
       " 0                Mind and Body  Emotions and Characteristics         Animals   \n",
       " 1      Education and Knowledge            Nature and Animals         Animals   \n",
       " 2            Sport and Leisure  Emotions and Characteristics         Animals   \n",
       " 3                Mind and Body  Emotions and Characteristics         Disease   \n",
       " 4      Education and Knowledge  Emotions and Characteristics     Description   \n",
       " ...                        ...                           ...             ...   \n",
       " 14835     Lifestyle and Living             Travel and Places  Transportation   \n",
       " 14836   Nature and Environment             Travel and Places         Animals   \n",
       " 14837  Education and Knowledge            Nature and Animals         Animals   \n",
       " 14838  Education and Knowledge            Nature and Animals         Animals   \n",
       " 14839     Technology and Media              Finance and Data    Architecture   \n",
       " \n",
       "                                            USAGE_EXAMPLE  \\\n",
       " 0      Don't talk to him right now, he's like a bear ...   \n",
       " 1      I decided to accept the job offer I had instea...   \n",
       " 2      He's always been a bit of a dark horse, you ne...   \n",
       " 3      Losing the championship was a bitter pill to s...   \n",
       " 4      Losing my job turned out to be a blessing in d...   \n",
       " ...                                                  ...   \n",
       " 14835       I need to find my focus and get in the zone.   \n",
       " 14836    We took the kids to the zoo to see the animals.   \n",
       " 14837  He studied to become a zoologist and work with...   \n",
       " 14838          She is majoring in zoology at university.   \n",
       " 14839             The car zoomed past us on the highway.   \n",
       " \n",
       "                                              EXPLANATION            SOURCE  \n",
       " 0      someone who is in a bad mood or easily irritated.               NaN  \n",
       " 1      it's better to hold onto something you already...               NaN  \n",
       " 2      someone who is mysterious or secretive, keepin...               NaN  \n",
       " 3      something that is difficult or unpleasant to a...               NaN  \n",
       " 4      something that seems bad or unfortunate at fir...               NaN  \n",
       " ...                                                  ...               ...  \n",
       " 14835  a specific area or region with distinct charac...        OXFORD3000  \n",
       " 14836  a place where live animals are kept for public...  cefrj-vocabulary  \n",
       " 14837  a person who studies or specializes in zoology...      cefrj-master  \n",
       " 14838  the scientific study of animals, including the...      cefrj-master  \n",
       " 14839     to move quickly with a buzzing or humming soun  cefrj-vocabulary  \n",
       " \n",
       " [14840 rows x 9 columns])"
      ]
     },
     "execution_count": 17,
     "metadata": {},
     "output_type": "execute_result"
    }
   ],
   "source": [
    "# Merge the DataFrames\n",
    "# Use 'outer' join to include all rows, filling missing columns with NaN where necessary\n",
    "merged_df = pd.concat([idiom_entity, phrasalVerb_entity, vocabulary_entity], ignore_index=True, sort=False)\n",
    "merged_df = merged_df.iloc[:-4]\n",
    "\n",
    "# Saving the merged DataFrame to a CSV file\n",
    "merged_csv_path = \"../data/lexical_entities_merged.csv\"\n",
    "merged_df.to_csv(merged_csv_path, index=False)\n",
    "\n",
    "merged_csv_path, merged_df"
   ]
  },
  {
   "cell_type": "code",
   "execution_count": 19,
   "metadata": {},
   "outputs": [
    {
     "data": {
      "text/plain": [
       "'../data/lexical_entity_data.json'"
      ]
     },
     "execution_count": 19,
     "metadata": {},
     "output_type": "execute_result"
    }
   ],
   "source": [
    "# Load the sample JSON file\n",
    "json_file_path = \"../data/lexical_entity_data.json\"\n",
    "\n",
    "# Read the JSON file content\n",
    "with open(json_file_path, 'r', encoding='utf-8') as json_file:\n",
    "    data = json.load(json_file)\n",
    "\n",
    "# Replace NaN with an empty string \"\" in the list of dictionaries\n",
    "for entry in data:\n",
    "    for key, value in entry.items():\n",
    "        if pd.isna(value):\n",
    "            entry[key] = \"\"\n",
    "\n",
    "# Write the updated data back to the JSON file\n",
    "with open(json_file_path, 'w', encoding='utf-8') as json_file:\n",
    "    json.dump(data, json_file, ensure_ascii=False, indent=4)\n",
    "\n",
    "json_file_path"
   ]
  },
  {
   "cell_type": "code",
   "execution_count": null,
   "metadata": {},
   "outputs": [],
   "source": []
  }
 ],
 "metadata": {
  "kernelspec": {
   "display_name": "sbert",
   "language": "python",
   "name": "python3"
  },
  "language_info": {
   "codemirror_mode": {
    "name": "ipython",
    "version": 3
   },
   "file_extension": ".py",
   "mimetype": "text/x-python",
   "name": "python",
   "nbconvert_exporter": "python",
   "pygments_lexer": "ipython3",
   "version": "3.8.18"
  },
  "orig_nbformat": 4
 },
 "nbformat": 4,
 "nbformat_minor": 2
}
