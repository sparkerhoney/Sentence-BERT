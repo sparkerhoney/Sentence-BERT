{
 "cells": [
  {
   "cell_type": "code",
   "execution_count": 2,
   "metadata": {},
   "outputs": [],
   "source": [
    "from transformers import AutoTokenizer, AutoModel\n",
    "import torch\n",
    "import torch.nn.functional as F\n",
    "import pandas as pd\n",
    "import json\n"
   ]
  },
  {
   "cell_type": "code",
   "execution_count": 3,
   "metadata": {},
   "outputs": [],
   "source": [
    "idiom_entity = pd.read_csv('/Users/marketdesigners/Documents/GitHub/sentencec-bert/data/lexical_entity(230808).xlsx - idiom_entity.csv')\n",
    "phrasalVerb_entity = pd.read_csv('/Users/marketdesigners/Documents/GitHub/sentencec-bert/data/lexical_entity(230808).xlsx - phrasalVerb_entity.csv')\n",
    "vocabulary_entity = pd.read_csv('/Users/marketdesigners/Documents/GitHub/sentencec-bert/data/lexical_entity(230808).xlsx - vocabulary_entity.csv')"
   ]
  },
  {
   "cell_type": "code",
   "execution_count": 9,
   "metadata": {},
   "outputs": [
    {
     "name": "stdout",
     "output_type": "stream",
     "text": [
      "Index(['ENTITY', 'SUB_TYPE', 'CEFR', 'CORE1', 'CORE2', 'CORE3',\n",
      "       'USAGE_EXAMPLE', 'EXPLANATION'],\n",
      "      dtype='object')\n",
      "Index(['ENTITY', 'SUB_TYPE', 'CEFR', 'USAGE_EXAMPLE', 'EXPLANATION'], dtype='object')\n"
     ]
    }
   ],
   "source": [
    "print(idiom_entity.columns)\n",
    "print(phrasalVerb_entity.columns)"
   ]
  },
  {
   "cell_type": "code",
   "execution_count": 5,
   "metadata": {},
   "outputs": [
    {
     "data": {
      "text/html": [
       "<div>\n",
       "<style scoped>\n",
       "    .dataframe tbody tr th:only-of-type {\n",
       "        vertical-align: middle;\n",
       "    }\n",
       "\n",
       "    .dataframe tbody tr th {\n",
       "        vertical-align: top;\n",
       "    }\n",
       "\n",
       "    .dataframe thead th {\n",
       "        text-align: right;\n",
       "    }\n",
       "</style>\n",
       "<table border=\"1\" class=\"dataframe\">\n",
       "  <thead>\n",
       "    <tr style=\"text-align: right;\">\n",
       "      <th></th>\n",
       "      <th>ENTITY</th>\n",
       "      <th>SUB_TYPE</th>\n",
       "      <th>CEFR</th>\n",
       "      <th>USAGE_EXAMPLE</th>\n",
       "      <th>EXPLANATION</th>\n",
       "    </tr>\n",
       "  </thead>\n",
       "  <tbody>\n",
       "    <tr>\n",
       "      <th>0</th>\n",
       "      <td>answer for</td>\n",
       "      <td>phrasalVerb</td>\n",
       "      <td>B1</td>\n",
       "      <td>As the team leader, you will have to answer fo...</td>\n",
       "      <td>to take responsibility or provide an explanati...</td>\n",
       "    </tr>\n",
       "    <tr>\n",
       "      <th>1</th>\n",
       "      <td>argue down</td>\n",
       "      <td>phrasalVerb</td>\n",
       "      <td>B1</td>\n",
       "      <td>She was able to argue down the price of the ca...</td>\n",
       "      <td>to persuade someone to lower their price or ch...</td>\n",
       "    </tr>\n",
       "    <tr>\n",
       "      <th>2</th>\n",
       "      <td>argue out</td>\n",
       "      <td>phrasalVerb</td>\n",
       "      <td>B1</td>\n",
       "      <td>They spent hours arguing out the details of th...</td>\n",
       "      <td>to discuss or debate something thoroughly unti...</td>\n",
       "    </tr>\n",
       "    <tr>\n",
       "      <th>3</th>\n",
       "      <td>ask about</td>\n",
       "      <td>phrasalVerb</td>\n",
       "      <td>A2</td>\n",
       "      <td>I need to ask about the availability of the pr...</td>\n",
       "      <td>to inquire or seek information about something.</td>\n",
       "    </tr>\n",
       "    <tr>\n",
       "      <th>4</th>\n",
       "      <td>ask after</td>\n",
       "      <td>phrasalVerb</td>\n",
       "      <td>B1</td>\n",
       "      <td>She asked after your health and wanted to know...</td>\n",
       "      <td>to inquire about someone's well-being or curre...</td>\n",
       "    </tr>\n",
       "  </tbody>\n",
       "</table>\n",
       "</div>"
      ],
      "text/plain": [
       "       ENTITY     SUB_TYPE CEFR  \\\n",
       "0  answer for  phrasalVerb   B1   \n",
       "1  argue down  phrasalVerb   B1   \n",
       "2   argue out  phrasalVerb   B1   \n",
       "3   ask about  phrasalVerb   A2   \n",
       "4   ask after  phrasalVerb   B1   \n",
       "\n",
       "                                       USAGE_EXAMPLE  \\\n",
       "0  As the team leader, you will have to answer fo...   \n",
       "1  She was able to argue down the price of the ca...   \n",
       "2  They spent hours arguing out the details of th...   \n",
       "3  I need to ask about the availability of the pr...   \n",
       "4  She asked after your health and wanted to know...   \n",
       "\n",
       "                                         EXPLANATION  \n",
       "0  to take responsibility or provide an explanati...  \n",
       "1  to persuade someone to lower their price or ch...  \n",
       "2  to discuss or debate something thoroughly unti...  \n",
       "3    to inquire or seek information about something.  \n",
       "4  to inquire about someone's well-being or curre...  "
      ]
     },
     "execution_count": 5,
     "metadata": {},
     "output_type": "execute_result"
    }
   ],
   "source": []
  },
  {
   "cell_type": "code",
   "execution_count": null,
   "metadata": {},
   "outputs": [],
   "source": []
  }
 ],
 "metadata": {
  "kernelspec": {
   "display_name": "sbert",
   "language": "python",
   "name": "python3"
  },
  "language_info": {
   "codemirror_mode": {
    "name": "ipython",
    "version": 3
   },
   "file_extension": ".py",
   "mimetype": "text/x-python",
   "name": "python",
   "nbconvert_exporter": "python",
   "pygments_lexer": "ipython3",
   "version": "3.8.18"
  },
  "orig_nbformat": 4
 },
 "nbformat": 4,
 "nbformat_minor": 2
}
